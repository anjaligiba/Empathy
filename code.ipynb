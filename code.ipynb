{
 "cells": [
  {
   "cell_type": "code",
   "execution_count": 5,
   "metadata": {
    "datalore": {
     "hide_input_from_viewers": true,
     "hide_output_from_viewers": true,
     "node_id": "PSBmu2y4i3aBXvgH2dS36f",
     "type": "CODE"
    }
   },
   "outputs": [],
   "source": [
    "import pandas as pd\n",
    "import matplotlib.pyplot as plot\n",
    "import seaborn as sbn\n",
    "import numpy as num"
   ]
  },
  {
   "cell_type": "code",
   "execution_count": 6,
   "metadata": {
    "datalore": {
     "hide_input_from_viewers": true,
     "hide_output_from_viewers": true,
     "node_id": "nYzwTL4FBKHu8jcwTd3ifo",
     "type": "CODE"
    }
   },
   "outputs": [],
   "source": [
    "import warnings\n",
    "warnings.filterwarnings('ignore')"
   ]
  },
  {
   "cell_type": "markdown",
   "metadata": {
    "datalore": {
     "hide_input_from_viewers": true,
     "hide_output_from_viewers": true,
     "node_id": "EKRIBFRReH2dzfvgT6zbmC",
     "type": "MD"
    }
   },
   "source": [
    "***Merging dataset***"
   ]
  },
  {
   "cell_type": "code",
   "execution_count": 7,
   "metadata": {
    "datalore": {
     "hide_input_from_viewers": true,
     "hide_output_from_viewers": true,
     "node_id": "A5bC1WSKwvzYPhcjJtIMgx",
     "type": "CODE"
    },
    "scrolled": true
   },
   "outputs": [],
   "source": [
    "df1 = pd.read_csv('Eye-Tracking Dataset/Eye-tracking Output/1.csv')"
   ]
  },
  {
   "cell_type": "code",
   "execution_count": 8,
   "metadata": {
    "datalore": {
     "hide_input_from_viewers": true,
     "hide_output_from_viewers": true,
     "node_id": "cMSEoxR7YZC9Rmtfs5Nr9L",
     "type": "CODE"
    }
   },
   "outputs": [],
   "source": [
    "import pandas as pd\n",
    "\n",
    "# Load the dataset into a pandas dataframe\n",
    "df = pd.read_csv('Eye-Tracking Dataset/Metadata_Participants.csv')\n",
    "\n",
    "# Rename the column 'old_column_name' to 'new_column_name'\n",
    "df.rename(columns={'ParticipantID': 'Participant'}, inplace=True)\n",
    "\n",
    "# Save the updated dataframe to a new CSV file\n",
    "df.to_csv('Metadata_Participants.csv', index=False)"
   ]
  },
  {
   "cell_type": "code",
   "execution_count": 9,
   "metadata": {
    "datalore": {
     "hide_input_from_viewers": true,
     "hide_output_from_viewers": true,
     "node_id": "vwAJZSVhqK6cb1h4kVXZiY",
     "type": "CODE"
    }
   },
   "outputs": [],
   "source": [
    "import pandas as pd\n",
    "\n",
    "# Load the two datase\n",
    "df1 = pd.read_csv('Eye-Tracking Dataset/Eye-tracking Output/1.csv')\n",
    "df2 = pd.read_csv('Metadata_Participants.csv')\n",
    "\n",
    "# Merge the datasets based on the common column \"participant\"\n",
    "merged_df = pd.merge(df2[['Participant', 'Gender', 'Age', 'Class', 'CARS Score']], \n",
    "                     df1[['Participant', 'Tracking Ratio [%]', 'Color', 'Category Group', 'Category Right', 'Category Left']],\n",
    "                     on='Participant')\n",
    "\n"
   ]
  },
  {
   "cell_type": "code",
   "execution_count": 10,
   "metadata": {
    "datalore": {
     "hide_input_from_viewers": true,
     "hide_output_from_viewers": true,
     "node_id": "eIruHWUySxYpRgQE1f9xk6",
     "type": "CODE"
    }
   },
   "outputs": [
    {
     "data": {
      "text/html": [
       "<div>\n",
       "<style scoped>\n",
       "    .dataframe tbody tr th:only-of-type {\n",
       "        vertical-align: middle;\n",
       "    }\n",
       "\n",
       "    .dataframe tbody tr th {\n",
       "        vertical-align: top;\n",
       "    }\n",
       "\n",
       "    .dataframe thead th {\n",
       "        text-align: right;\n",
       "    }\n",
       "</style>\n",
       "<table border=\"1\" class=\"dataframe\">\n",
       "  <thead>\n",
       "    <tr style=\"text-align: right;\">\n",
       "      <th></th>\n",
       "      <th>Participant</th>\n",
       "      <th>Gender</th>\n",
       "      <th>Age</th>\n",
       "      <th>Class</th>\n",
       "      <th>CARS Score</th>\n",
       "      <th>Tracking Ratio [%]</th>\n",
       "      <th>Color</th>\n",
       "      <th>Category Group</th>\n",
       "      <th>Category Right</th>\n",
       "      <th>Category Left</th>\n",
       "    </tr>\n",
       "  </thead>\n",
       "  <tbody>\n",
       "    <tr>\n",
       "      <th>0</th>\n",
       "      <td>18</td>\n",
       "      <td>M</td>\n",
       "      <td>11.7</td>\n",
       "      <td>ASD</td>\n",
       "      <td>34.5</td>\n",
       "      <td>18.7598</td>\n",
       "      <td>Khaki</td>\n",
       "      <td>Information</td>\n",
       "      <td>Separator</td>\n",
       "      <td>Separator</td>\n",
       "    </tr>\n",
       "    <tr>\n",
       "      <th>1</th>\n",
       "      <td>18</td>\n",
       "      <td>M</td>\n",
       "      <td>11.7</td>\n",
       "      <td>ASD</td>\n",
       "      <td>34.5</td>\n",
       "      <td>18.7598</td>\n",
       "      <td>Khaki</td>\n",
       "      <td>Eye</td>\n",
       "      <td>Blink</td>\n",
       "      <td>Blink</td>\n",
       "    </tr>\n",
       "    <tr>\n",
       "      <th>2</th>\n",
       "      <td>18</td>\n",
       "      <td>M</td>\n",
       "      <td>11.7</td>\n",
       "      <td>ASD</td>\n",
       "      <td>34.5</td>\n",
       "      <td>18.7598</td>\n",
       "      <td>Khaki</td>\n",
       "      <td>Eye</td>\n",
       "      <td>Blink</td>\n",
       "      <td>Blink</td>\n",
       "    </tr>\n",
       "    <tr>\n",
       "      <th>3</th>\n",
       "      <td>18</td>\n",
       "      <td>M</td>\n",
       "      <td>11.7</td>\n",
       "      <td>ASD</td>\n",
       "      <td>34.5</td>\n",
       "      <td>18.7598</td>\n",
       "      <td>Khaki</td>\n",
       "      <td>Eye</td>\n",
       "      <td>Blink</td>\n",
       "      <td>Blink</td>\n",
       "    </tr>\n",
       "    <tr>\n",
       "      <th>4</th>\n",
       "      <td>18</td>\n",
       "      <td>M</td>\n",
       "      <td>11.7</td>\n",
       "      <td>ASD</td>\n",
       "      <td>34.5</td>\n",
       "      <td>18.7598</td>\n",
       "      <td>Khaki</td>\n",
       "      <td>Eye</td>\n",
       "      <td>Blink</td>\n",
       "      <td>Blink</td>\n",
       "    </tr>\n",
       "    <tr>\n",
       "      <th>...</th>\n",
       "      <td>...</td>\n",
       "      <td>...</td>\n",
       "      <td>...</td>\n",
       "      <td>...</td>\n",
       "      <td>...</td>\n",
       "      <td>...</td>\n",
       "      <td>...</td>\n",
       "      <td>...</td>\n",
       "      <td>...</td>\n",
       "      <td>...</td>\n",
       "    </tr>\n",
       "    <tr>\n",
       "      <th>1857</th>\n",
       "      <td>28</td>\n",
       "      <td>M</td>\n",
       "      <td>11.8</td>\n",
       "      <td>ASD</td>\n",
       "      <td>36.5</td>\n",
       "      <td>23.1018</td>\n",
       "      <td>GreenYellow</td>\n",
       "      <td>Eye</td>\n",
       "      <td>Blink</td>\n",
       "      <td>Blink</td>\n",
       "    </tr>\n",
       "    <tr>\n",
       "      <th>1858</th>\n",
       "      <td>28</td>\n",
       "      <td>M</td>\n",
       "      <td>11.8</td>\n",
       "      <td>ASD</td>\n",
       "      <td>36.5</td>\n",
       "      <td>23.1018</td>\n",
       "      <td>GreenYellow</td>\n",
       "      <td>Eye</td>\n",
       "      <td>Blink</td>\n",
       "      <td>Blink</td>\n",
       "    </tr>\n",
       "    <tr>\n",
       "      <th>1859</th>\n",
       "      <td>28</td>\n",
       "      <td>M</td>\n",
       "      <td>11.8</td>\n",
       "      <td>ASD</td>\n",
       "      <td>36.5</td>\n",
       "      <td>23.1018</td>\n",
       "      <td>GreenYellow</td>\n",
       "      <td>Eye</td>\n",
       "      <td>Blink</td>\n",
       "      <td>Blink</td>\n",
       "    </tr>\n",
       "    <tr>\n",
       "      <th>1860</th>\n",
       "      <td>28</td>\n",
       "      <td>M</td>\n",
       "      <td>11.8</td>\n",
       "      <td>ASD</td>\n",
       "      <td>36.5</td>\n",
       "      <td>23.1018</td>\n",
       "      <td>GreenYellow</td>\n",
       "      <td>Eye</td>\n",
       "      <td>Blink</td>\n",
       "      <td>Blink</td>\n",
       "    </tr>\n",
       "    <tr>\n",
       "      <th>1861</th>\n",
       "      <td>28</td>\n",
       "      <td>M</td>\n",
       "      <td>11.8</td>\n",
       "      <td>ASD</td>\n",
       "      <td>36.5</td>\n",
       "      <td>23.1018</td>\n",
       "      <td>GreenYellow</td>\n",
       "      <td>Eye</td>\n",
       "      <td>Blink</td>\n",
       "      <td>Blink</td>\n",
       "    </tr>\n",
       "  </tbody>\n",
       "</table>\n",
       "<p>1862 rows × 10 columns</p>\n",
       "</div>"
      ],
      "text/plain": [
       "     Participant Gender   Age Class  CARS Score  Tracking Ratio [%]  \\\n",
       "0             18      M  11.7   ASD        34.5             18.7598   \n",
       "1             18      M  11.7   ASD        34.5             18.7598   \n",
       "2             18      M  11.7   ASD        34.5             18.7598   \n",
       "3             18      M  11.7   ASD        34.5             18.7598   \n",
       "4             18      M  11.7   ASD        34.5             18.7598   \n",
       "...          ...    ...   ...   ...         ...                 ...   \n",
       "1857          28      M  11.8   ASD        36.5             23.1018   \n",
       "1858          28      M  11.8   ASD        36.5             23.1018   \n",
       "1859          28      M  11.8   ASD        36.5             23.1018   \n",
       "1860          28      M  11.8   ASD        36.5             23.1018   \n",
       "1861          28      M  11.8   ASD        36.5             23.1018   \n",
       "\n",
       "            Color Category Group Category Right Category Left  \n",
       "0           Khaki    Information      Separator     Separator  \n",
       "1           Khaki            Eye          Blink         Blink  \n",
       "2           Khaki            Eye          Blink         Blink  \n",
       "3           Khaki            Eye          Blink         Blink  \n",
       "4           Khaki            Eye          Blink         Blink  \n",
       "...           ...            ...            ...           ...  \n",
       "1857  GreenYellow            Eye          Blink         Blink  \n",
       "1858  GreenYellow            Eye          Blink         Blink  \n",
       "1859  GreenYellow            Eye          Blink         Blink  \n",
       "1860  GreenYellow            Eye          Blink         Blink  \n",
       "1861  GreenYellow            Eye          Blink         Blink  \n",
       "\n",
       "[1862 rows x 10 columns]"
      ]
     },
     "execution_count": 10,
     "metadata": {},
     "output_type": "execute_result"
    }
   ],
   "source": [
    "merged_df"
   ]
  },
  {
   "cell_type": "markdown",
   "metadata": {
    "datalore": {
     "hide_input_from_viewers": true,
     "hide_output_from_viewers": true,
     "node_id": "r62DymadbBAzhD7sz1L5il",
     "type": "MD"
    }
   },
   "source": [
    "***Data Preprocessing***"
   ]
  },
  {
   "cell_type": "code",
   "execution_count": 11,
   "metadata": {
    "datalore": {
     "hide_input_from_viewers": true,
     "hide_output_from_viewers": true,
     "node_id": "OQtJOImkozKTGRCmVbMKYW",
     "type": "CODE"
    }
   },
   "outputs": [
    {
     "data": {
      "text/plain": [
       "Participant           0\n",
       "Gender                0\n",
       "Age                   0\n",
       "Class                 0\n",
       "CARS Score            0\n",
       "Tracking Ratio [%]    0\n",
       "Color                 0\n",
       "Category Group        0\n",
       "Category Right        0\n",
       "Category Left         0\n",
       "dtype: int64"
      ]
     },
     "execution_count": 11,
     "metadata": {},
     "output_type": "execute_result"
    }
   ],
   "source": [
    "merged_df.isna().sum()"
   ]
  },
  {
   "cell_type": "code",
   "execution_count": 12,
   "metadata": {
    "datalore": {
     "hide_input_from_viewers": true,
     "hide_output_from_viewers": true,
     "node_id": "RHCR03zVBtFADc9oFw9Uvn",
     "type": "CODE"
    }
   },
   "outputs": [
    {
     "data": {
      "text/plain": [
       "(1862, 10)"
      ]
     },
     "execution_count": 12,
     "metadata": {},
     "output_type": "execute_result"
    }
   ],
   "source": [
    "merged_df.shape"
   ]
  },
  {
   "cell_type": "code",
   "execution_count": 13,
   "metadata": {
    "datalore": {
     "hide_input_from_viewers": true,
     "hide_output_from_viewers": true,
     "node_id": "TAor4w6lg3uDVzEvF7SrMz",
     "type": "CODE"
    }
   },
   "outputs": [
    {
     "data": {
      "text/html": [
       "<div>\n",
       "<style scoped>\n",
       "    .dataframe tbody tr th:only-of-type {\n",
       "        vertical-align: middle;\n",
       "    }\n",
       "\n",
       "    .dataframe tbody tr th {\n",
       "        vertical-align: top;\n",
       "    }\n",
       "\n",
       "    .dataframe thead th {\n",
       "        text-align: right;\n",
       "    }\n",
       "</style>\n",
       "<table border=\"1\" class=\"dataframe\">\n",
       "  <thead>\n",
       "    <tr style=\"text-align: right;\">\n",
       "      <th></th>\n",
       "      <th>Age</th>\n",
       "      <th>CARS Score</th>\n",
       "      <th>Tracking Ratio [%]</th>\n",
       "    </tr>\n",
       "  </thead>\n",
       "  <tbody>\n",
       "    <tr>\n",
       "      <th>count</th>\n",
       "      <td>1862.000000</td>\n",
       "      <td>1862.000000</td>\n",
       "      <td>1862.000000</td>\n",
       "    </tr>\n",
       "    <tr>\n",
       "      <th>mean</th>\n",
       "      <td>11.714393</td>\n",
       "      <td>34.787863</td>\n",
       "      <td>19.384750</td>\n",
       "    </tr>\n",
       "    <tr>\n",
       "      <th>std</th>\n",
       "      <td>0.035111</td>\n",
       "      <td>0.702229</td>\n",
       "      <td>1.524538</td>\n",
       "    </tr>\n",
       "    <tr>\n",
       "      <th>min</th>\n",
       "      <td>11.700000</td>\n",
       "      <td>34.500000</td>\n",
       "      <td>18.759800</td>\n",
       "    </tr>\n",
       "    <tr>\n",
       "      <th>25%</th>\n",
       "      <td>11.700000</td>\n",
       "      <td>34.500000</td>\n",
       "      <td>18.759800</td>\n",
       "    </tr>\n",
       "    <tr>\n",
       "      <th>50%</th>\n",
       "      <td>11.700000</td>\n",
       "      <td>34.500000</td>\n",
       "      <td>18.759800</td>\n",
       "    </tr>\n",
       "    <tr>\n",
       "      <th>75%</th>\n",
       "      <td>11.700000</td>\n",
       "      <td>34.500000</td>\n",
       "      <td>18.759800</td>\n",
       "    </tr>\n",
       "    <tr>\n",
       "      <th>max</th>\n",
       "      <td>11.800000</td>\n",
       "      <td>36.500000</td>\n",
       "      <td>23.101800</td>\n",
       "    </tr>\n",
       "  </tbody>\n",
       "</table>\n",
       "</div>"
      ],
      "text/plain": [
       "               Age   CARS Score  Tracking Ratio [%]\n",
       "count  1862.000000  1862.000000         1862.000000\n",
       "mean     11.714393    34.787863           19.384750\n",
       "std       0.035111     0.702229            1.524538\n",
       "min      11.700000    34.500000           18.759800\n",
       "25%      11.700000    34.500000           18.759800\n",
       "50%      11.700000    34.500000           18.759800\n",
       "75%      11.700000    34.500000           18.759800\n",
       "max      11.800000    36.500000           23.101800"
      ]
     },
     "execution_count": 13,
     "metadata": {},
     "output_type": "execute_result"
    }
   ],
   "source": [
    "merged_df.describe()"
   ]
  },
  {
   "cell_type": "markdown",
   "metadata": {
    "datalore": {
     "hide_input_from_viewers": true,
     "hide_output_from_viewers": true,
     "node_id": "8tk6Gy9q3rnK5HjnTz1gp0",
     "type": "MD"
    }
   },
   "source": [
    "***EDA Analysis***"
   ]
  },
  {
   "cell_type": "code",
   "execution_count": 14,
   "metadata": {
    "datalore": {
     "hide_input_from_viewers": true,
     "hide_output_from_viewers": true,
     "node_id": "jElAjRE6RmJUsO7JJV7yxf",
     "type": "CODE"
    }
   },
   "outputs": [
    {
     "data": {
      "text/plain": [
       "<AxesSubplot:xlabel='Gender', ylabel='count'>"
      ]
     },
     "execution_count": 14,
     "metadata": {},
     "output_type": "execute_result"
    },
    {
     "data": {
      "image/png": "[encoded data removed]",
      "text/plain": [
       "<Figure size 640x480 with 1 Axes>"
      ]
     },
     "metadata": {},
     "output_type": "display_data"
    }
   ],
   "source": [
    "sbn.countplot(df['Gender'])"
   ]
  },
  {
   "cell_type": "code",
   "execution_count": 15,
   "metadata": {
    "datalore": {
     "hide_input_from_viewers": true,
     "hide_output_from_viewers": true,
     "node_id": "lpEhlnPJfHrrV7Fcy5s1J8",
     "type": "CODE"
    }
   },
   "outputs": [
    {
     "data": {
      "text/plain": [
       "<AxesSubplot:xlabel='Class', ylabel='count'>"
      ]
     },
     "execution_count": 15,
     "metadata": {},
     "output_type": "execute_result"
    },
    {
     "data": {
      "image/png": "[encoded data removed]",
      "text/plain": [
       "<Figure size 640x480 with 1 Axes>"
      ]
     },
     "metadata": {},
     "output_type": "display_data"
    }
   ],
   "source": [
    "sbn.countplot(df['Class'])"
   ]
  },
  {
   "cell_type": "code",
   "execution_count": 16,
   "metadata": {
    "datalore": {
     "hide_input_from_viewers": true,
     "hide_output_from_viewers": true,
     "node_id": "LOF8f2Ekf7k0ctN9ZTMIY2",
     "type": "CODE"
    }
   },
   "outputs": [
    {
     "data": {
      "text/plain": [
       "<AxesSubplot:xlabel='Category Right', ylabel='count'>"
      ]
     },
     "execution_count": 16,
     "metadata": {},
     "output_type": "execute_result"
    },
    {
     "data": {
      "image/png": "[encoded data removed]",
      "text/plain": [
       "<Figure size 640x480 with 1 Axes>"
      ]
     },
     "metadata": {},
     "output_type": "display_data"
    }
   ],
   "source": [
    "sbn.countplot(merged_df['Category Right'])"
   ]
  },
  {
   "cell_type": "code",
   "execution_count": 17,
   "metadata": {
    "datalore": {
     "hide_input_from_viewers": true,
     "hide_output_from_viewers": true,
     "node_id": "hQzFMLWgsZIheUP5tdYyWR",
     "type": "CODE"
    }
   },
   "outputs": [
    {
     "data": {
      "text/plain": [
       "<AxesSubplot:xlabel='Gender', ylabel='Tracking Ratio [%]'>"
      ]
     },
     "execution_count": 17,
     "metadata": {},
     "output_type": "execute_result"
    },
    {
     "data": {
      "image/png": "[encoded data removed]",
      "text/plain": [
       "<Figure size 640x480 with 1 Axes>"
      ]
     },
     "metadata": {},
     "output_type": "display_data"
    }
   ],
   "source": [
    "sbn.barplot(df['Gender'],merged_df['Tracking Ratio [%]'])"
   ]
  },
  {
   "cell_type": "code",
   "execution_count": 18,
   "metadata": {
    "datalore": {
     "hide_input_from_viewers": true,
     "hide_output_from_viewers": true,
     "node_id": "DbpFakrxc71EFndZpxpRKp",
     "type": "CODE"
    }
   },
   "outputs": [
    {
     "data": {
      "text/plain": [
       "<AxesSubplot:xlabel='Color', ylabel='Tracking Ratio [%]'>"
      ]
     },
     "execution_count": 18,
     "metadata": {},
     "output_type": "execute_result"
    },
    {
     "data": {
      "image/png": "[encoded data removed]",
      "text/plain": [
       "<Figure size 640x480 with 1 Axes>"
      ]
     },
     "metadata": {},
     "output_type": "display_data"
    }
   ],
   "source": [
    "sbn.barplot(merged_df['Color'], merged_df['Tracking Ratio [%]'])"
   ]
  },
  {
   "cell_type": "markdown",
   "metadata": {
    "datalore": {
     "hide_input_from_viewers": true,
     "hide_output_from_viewers": true,
     "node_id": "oeYC09Bv79yrm36jZ3DAkM",
     "type": "MD"
    }
   },
   "source": [
    "***Another Data preprocessing***"
   ]
  },
  {
   "cell_type": "code",
   "execution_count": 19,
   "metadata": {
    "datalore": {
     "hide_input_from_viewers": true,
     "hide_output_from_viewers": true,
     "node_id": "FzvcCaDeCZSybd05VsMuuH",
     "type": "CODE"
    }
   },
   "outputs": [],
   "source": [
    "from sklearn import preprocessing ## importing preprocessing"
   ]
  },
  {
   "cell_type": "code",
   "execution_count": null,
   "metadata": {
    "datalore": {
     "hide_input_from_viewers": true,
     "hide_output_from_viewers": true,
     "node_id": "OOlnuZFni4jKntjXRXHGhR",
     "type": "CODE"
    }
   },
   "outputs": [],
   "source": []
  },
  {
   "cell_type": "code",
   "execution_count": 20,
   "metadata": {
    "datalore": {
     "hide_input_from_viewers": true,
     "hide_output_from_viewers": true,
     "node_id": "u1PPquLpRdweP053xngVYZ",
     "type": "CODE"
    }
   },
   "outputs": [],
   "source": [
    "label_encoder = preprocessing.LabelEncoder() ## using label encoder"
   ]
  },
  {
   "cell_type": "code",
   "execution_count": 21,
   "metadata": {
    "datalore": {
     "hide_input_from_viewers": true,
     "hide_output_from_viewers": true,
     "node_id": "M09w6suwrf8Qw3dhotjbEc",
     "type": "CODE"
    }
   },
   "outputs": [],
   "source": [
    "merged_df['Color']= label_encoder.fit_transform(merged_df['Color']) ## transforming into numerical variable\n",
    "merged_df['Class']= label_encoder.fit_transform(merged_df['Class']) ## transforming into numerical variable\n",
    "merged_df['Category Group']= label_encoder.fit_transform(merged_df['Category Group']) ## transforming into numerical variable\n",
    "merged_df['Category Right']= label_encoder.fit_transform(merged_df['Category Right']) ## transforming into numerical variable\n",
    "merged_df['Category Left']= label_encoder.fit_transform(merged_df['Category Left']) ## transforming into numerical variable"
   ]
  },
  {
   "cell_type": "code",
   "execution_count": 22,
   "metadata": {
    "datalore": {
     "hide_input_from_viewers": true,
     "hide_output_from_viewers": true,
     "node_id": "iQxFwHuljSimCFGIaFKMCI",
     "type": "CODE"
    }
   },
   "outputs": [],
   "source": [
    "cols_to_drop=['Class']\n",
    "merged_df=merged_df.drop(cols_to_drop,axis=1) ## dropiing column"
   ]
  },
  {
   "cell_type": "code",
   "execution_count": 23,
   "metadata": {
    "datalore": {
     "hide_input_from_viewers": true,
     "hide_output_from_viewers": true,
     "node_id": "vi1foRE2qWckSXAUnz1X83",
     "type": "CODE"
    }
   },
   "outputs": [
    {
     "data": {
      "text/html": [
       "<div>\n",
       "<style scoped>\n",
       "    .dataframe tbody tr th:only-of-type {\n",
       "        vertical-align: middle;\n",
       "    }\n",
       "\n",
       "    .dataframe tbody tr th {\n",
       "        vertical-align: top;\n",
       "    }\n",
       "\n",
       "    .dataframe thead th {\n",
       "        text-align: right;\n",
       "    }\n",
       "</style>\n",
       "<table border=\"1\" class=\"dataframe\">\n",
       "  <thead>\n",
       "    <tr style=\"text-align: right;\">\n",
       "      <th></th>\n",
       "      <th>Participant</th>\n",
       "      <th>Gender</th>\n",
       "      <th>Age</th>\n",
       "      <th>CARS Score</th>\n",
       "      <th>Tracking Ratio [%]</th>\n",
       "      <th>Color</th>\n",
       "      <th>Category Group</th>\n",
       "      <th>Category Right</th>\n",
       "      <th>Category Left</th>\n",
       "    </tr>\n",
       "  </thead>\n",
       "  <tbody>\n",
       "    <tr>\n",
       "      <th>0</th>\n",
       "      <td>18</td>\n",
       "      <td>M</td>\n",
       "      <td>11.7</td>\n",
       "      <td>34.5</td>\n",
       "      <td>18.7598</td>\n",
       "      <td>1</td>\n",
       "      <td>1</td>\n",
       "      <td>4</td>\n",
       "      <td>4</td>\n",
       "    </tr>\n",
       "    <tr>\n",
       "      <th>1</th>\n",
       "      <td>18</td>\n",
       "      <td>M</td>\n",
       "      <td>11.7</td>\n",
       "      <td>34.5</td>\n",
       "      <td>18.7598</td>\n",
       "      <td>1</td>\n",
       "      <td>0</td>\n",
       "      <td>1</td>\n",
       "      <td>1</td>\n",
       "    </tr>\n",
       "    <tr>\n",
       "      <th>2</th>\n",
       "      <td>18</td>\n",
       "      <td>M</td>\n",
       "      <td>11.7</td>\n",
       "      <td>34.5</td>\n",
       "      <td>18.7598</td>\n",
       "      <td>1</td>\n",
       "      <td>0</td>\n",
       "      <td>1</td>\n",
       "      <td>1</td>\n",
       "    </tr>\n",
       "    <tr>\n",
       "      <th>3</th>\n",
       "      <td>18</td>\n",
       "      <td>M</td>\n",
       "      <td>11.7</td>\n",
       "      <td>34.5</td>\n",
       "      <td>18.7598</td>\n",
       "      <td>1</td>\n",
       "      <td>0</td>\n",
       "      <td>1</td>\n",
       "      <td>1</td>\n",
       "    </tr>\n",
       "    <tr>\n",
       "      <th>4</th>\n",
       "      <td>18</td>\n",
       "      <td>M</td>\n",
       "      <td>11.7</td>\n",
       "      <td>34.5</td>\n",
       "      <td>18.7598</td>\n",
       "      <td>1</td>\n",
       "      <td>0</td>\n",
       "      <td>1</td>\n",
       "      <td>1</td>\n",
       "    </tr>\n",
       "    <tr>\n",
       "      <th>...</th>\n",
       "      <td>...</td>\n",
       "      <td>...</td>\n",
       "      <td>...</td>\n",
       "      <td>...</td>\n",
       "      <td>...</td>\n",
       "      <td>...</td>\n",
       "      <td>...</td>\n",
       "      <td>...</td>\n",
       "      <td>...</td>\n",
       "    </tr>\n",
       "    <tr>\n",
       "      <th>1857</th>\n",
       "      <td>28</td>\n",
       "      <td>M</td>\n",
       "      <td>11.8</td>\n",
       "      <td>36.5</td>\n",
       "      <td>23.1018</td>\n",
       "      <td>0</td>\n",
       "      <td>0</td>\n",
       "      <td>1</td>\n",
       "      <td>1</td>\n",
       "    </tr>\n",
       "    <tr>\n",
       "      <th>1858</th>\n",
       "      <td>28</td>\n",
       "      <td>M</td>\n",
       "      <td>11.8</td>\n",
       "      <td>36.5</td>\n",
       "      <td>23.1018</td>\n",
       "      <td>0</td>\n",
       "      <td>0</td>\n",
       "      <td>1</td>\n",
       "      <td>1</td>\n",
       "    </tr>\n",
       "    <tr>\n",
       "      <th>1859</th>\n",
       "      <td>28</td>\n",
       "      <td>M</td>\n",
       "      <td>11.8</td>\n",
       "      <td>36.5</td>\n",
       "      <td>23.1018</td>\n",
       "      <td>0</td>\n",
       "      <td>0</td>\n",
       "      <td>1</td>\n",
       "      <td>1</td>\n",
       "    </tr>\n",
       "    <tr>\n",
       "      <th>1860</th>\n",
       "      <td>28</td>\n",
       "      <td>M</td>\n",
       "      <td>11.8</td>\n",
       "      <td>36.5</td>\n",
       "      <td>23.1018</td>\n",
       "      <td>0</td>\n",
       "      <td>0</td>\n",
       "      <td>1</td>\n",
       "      <td>1</td>\n",
       "    </tr>\n",
       "    <tr>\n",
       "      <th>1861</th>\n",
       "      <td>28</td>\n",
       "      <td>M</td>\n",
       "      <td>11.8</td>\n",
       "      <td>36.5</td>\n",
       "      <td>23.1018</td>\n",
       "      <td>0</td>\n",
       "      <td>0</td>\n",
       "      <td>1</td>\n",
       "      <td>1</td>\n",
       "    </tr>\n",
       "  </tbody>\n",
       "</table>\n",
       "<p>1862 rows × 9 columns</p>\n",
       "</div>"
      ],
      "text/plain": [
       "     Participant Gender   Age  CARS Score  Tracking Ratio [%]  Color  \\\n",
       "0             18      M  11.7        34.5             18.7598      1   \n",
       "1             18      M  11.7        34.5             18.7598      1   \n",
       "2             18      M  11.7        34.5             18.7598      1   \n",
       "3             18      M  11.7        34.5             18.7598      1   \n",
       "4             18      M  11.7        34.5             18.7598      1   \n",
       "...          ...    ...   ...         ...                 ...    ...   \n",
       "1857          28      M  11.8        36.5             23.1018      0   \n",
       "1858          28      M  11.8        36.5             23.1018      0   \n",
       "1859          28      M  11.8        36.5             23.1018      0   \n",
       "1860          28      M  11.8        36.5             23.1018      0   \n",
       "1861          28      M  11.8        36.5             23.1018      0   \n",
       "\n",
       "      Category Group  Category Right  Category Left  \n",
       "0                  1               4              4  \n",
       "1                  0               1              1  \n",
       "2                  0               1              1  \n",
       "3                  0               1              1  \n",
       "4                  0               1              1  \n",
       "...              ...             ...            ...  \n",
       "1857               0               1              1  \n",
       "1858               0               1              1  \n",
       "1859               0               1              1  \n",
       "1860               0               1              1  \n",
       "1861               0               1              1  \n",
       "\n",
       "[1862 rows x 9 columns]"
      ]
     },
     "execution_count": 23,
     "metadata": {},
     "output_type": "execute_result"
    }
   ],
   "source": [
    "merged_df"
   ]
  },
  {
   "cell_type": "code",
   "execution_count": 24,
   "metadata": {
    "datalore": {
     "hide_input_from_viewers": true,
     "hide_output_from_viewers": true,
     "node_id": "SfZgq3kbbwwgtbNRxZURFb",
     "type": "CODE"
    }
   },
   "outputs": [
    {
     "data": {
      "image/png": "[encoded data removed]",
      "text/plain": [
       "<Figure size 1400x1000 with 2 Axes>"
      ]
     },
     "metadata": {},
     "output_type": "display_data"
    }
   ],
   "source": [
    "# Computing correlation matrix\n",
    "corr = merged_df.corr()\n",
    "\n",
    "# Creating heatmap with correlation values\n",
    "fig, ax = plot.subplots(figsize=(14,10))\n",
    "sbn.heatmap(corr, cmap='coolwarm', annot=True, ax=ax) \n",
    "\n",
    "# Setting title\n",
    "ax.set_title(\"Correlation Matrix\")\n",
    "\n",
    "# Displaying plot\n",
    "plot.show()"
   ]
  },
  {
   "cell_type": "markdown",
   "metadata": {
    "datalore": {
     "hide_input_from_viewers": true,
     "hide_output_from_viewers": true,
     "node_id": "w2FL7rIDhnusnYyRXnfYc5",
     "type": "MD"
    }
   },
   "source": [
    "***Train test splitting***"
   ]
  },
  {
   "cell_type": "code",
   "execution_count": 25,
   "metadata": {
    "datalore": {
     "hide_input_from_viewers": true,
     "hide_output_from_viewers": true,
     "node_id": "d7Oe1WWMPpro7CAhypdrgo",
     "type": "CODE"
    }
   },
   "outputs": [],
   "source": [
    "X = merged_df[['Age', 'CARS Score', 'Tracking Ratio [%]', 'Color', 'Category Group', 'Category Left']]\n",
    "Y = merged_df['Category Right'] ## Spearating independent and dependent variables"
   ]
  },
  {
   "cell_type": "code",
   "execution_count": 26,
   "metadata": {
    "datalore": {
     "hide_input_from_viewers": true,
     "hide_output_from_viewers": true,
     "node_id": "z2KuqMoJEyN5x7ZwprW3Rz",
     "type": "CODE"
    }
   },
   "outputs": [
    {
     "data": {
      "text/html": [
       "<div>\n",
       "<style scoped>\n",
       "    .dataframe tbody tr th:only-of-type {\n",
       "        vertical-align: middle;\n",
       "    }\n",
       "\n",
       "    .dataframe tbody tr th {\n",
       "        vertical-align: top;\n",
       "    }\n",
       "\n",
       "    .dataframe thead th {\n",
       "        text-align: right;\n",
       "    }\n",
       "</style>\n",
       "<table border=\"1\" class=\"dataframe\">\n",
       "  <thead>\n",
       "    <tr style=\"text-align: right;\">\n",
       "      <th></th>\n",
       "      <th>Age</th>\n",
       "      <th>CARS Score</th>\n",
       "      <th>Tracking Ratio [%]</th>\n",
       "      <th>Color</th>\n",
       "      <th>Category Group</th>\n",
       "      <th>Category Left</th>\n",
       "    </tr>\n",
       "  </thead>\n",
       "  <tbody>\n",
       "    <tr>\n",
       "      <th>0</th>\n",
       "      <td>11.7</td>\n",
       "      <td>34.5</td>\n",
       "      <td>18.7598</td>\n",
       "      <td>1</td>\n",
       "      <td>1</td>\n",
       "      <td>4</td>\n",
       "    </tr>\n",
       "    <tr>\n",
       "      <th>1</th>\n",
       "      <td>11.7</td>\n",
       "      <td>34.5</td>\n",
       "      <td>18.7598</td>\n",
       "      <td>1</td>\n",
       "      <td>0</td>\n",
       "      <td>1</td>\n",
       "    </tr>\n",
       "    <tr>\n",
       "      <th>2</th>\n",
       "      <td>11.7</td>\n",
       "      <td>34.5</td>\n",
       "      <td>18.7598</td>\n",
       "      <td>1</td>\n",
       "      <td>0</td>\n",
       "      <td>1</td>\n",
       "    </tr>\n",
       "    <tr>\n",
       "      <th>3</th>\n",
       "      <td>11.7</td>\n",
       "      <td>34.5</td>\n",
       "      <td>18.7598</td>\n",
       "      <td>1</td>\n",
       "      <td>0</td>\n",
       "      <td>1</td>\n",
       "    </tr>\n",
       "    <tr>\n",
       "      <th>4</th>\n",
       "      <td>11.7</td>\n",
       "      <td>34.5</td>\n",
       "      <td>18.7598</td>\n",
       "      <td>1</td>\n",
       "      <td>0</td>\n",
       "      <td>1</td>\n",
       "    </tr>\n",
       "    <tr>\n",
       "      <th>...</th>\n",
       "      <td>...</td>\n",
       "      <td>...</td>\n",
       "      <td>...</td>\n",
       "      <td>...</td>\n",
       "      <td>...</td>\n",
       "      <td>...</td>\n",
       "    </tr>\n",
       "    <tr>\n",
       "      <th>1857</th>\n",
       "      <td>11.8</td>\n",
       "      <td>36.5</td>\n",
       "      <td>23.1018</td>\n",
       "      <td>0</td>\n",
       "      <td>0</td>\n",
       "      <td>1</td>\n",
       "    </tr>\n",
       "    <tr>\n",
       "      <th>1858</th>\n",
       "      <td>11.8</td>\n",
       "      <td>36.5</td>\n",
       "      <td>23.1018</td>\n",
       "      <td>0</td>\n",
       "      <td>0</td>\n",
       "      <td>1</td>\n",
       "    </tr>\n",
       "    <tr>\n",
       "      <th>1859</th>\n",
       "      <td>11.8</td>\n",
       "      <td>36.5</td>\n",
       "      <td>23.1018</td>\n",
       "      <td>0</td>\n",
       "      <td>0</td>\n",
       "      <td>1</td>\n",
       "    </tr>\n",
       "    <tr>\n",
       "      <th>1860</th>\n",
       "      <td>11.8</td>\n",
       "      <td>36.5</td>\n",
       "      <td>23.1018</td>\n",
       "      <td>0</td>\n",
       "      <td>0</td>\n",
       "      <td>1</td>\n",
       "    </tr>\n",
       "    <tr>\n",
       "      <th>1861</th>\n",
       "      <td>11.8</td>\n",
       "      <td>36.5</td>\n",
       "      <td>23.1018</td>\n",
       "      <td>0</td>\n",
       "      <td>0</td>\n",
       "      <td>1</td>\n",
       "    </tr>\n",
       "  </tbody>\n",
       "</table>\n",
       "<p>1862 rows × 6 columns</p>\n",
       "</div>"
      ],
      "text/plain": [
       "       Age  CARS Score  Tracking Ratio [%]  Color  Category Group  \\\n",
       "0     11.7        34.5             18.7598      1               1   \n",
       "1     11.7        34.5             18.7598      1               0   \n",
       "2     11.7        34.5             18.7598      1               0   \n",
       "3     11.7        34.5             18.7598      1               0   \n",
       "4     11.7        34.5             18.7598      1               0   \n",
       "...    ...         ...                 ...    ...             ...   \n",
       "1857  11.8        36.5             23.1018      0               0   \n",
       "1858  11.8        36.5             23.1018      0               0   \n",
       "1859  11.8        36.5             23.1018      0               0   \n",
       "1860  11.8        36.5             23.1018      0               0   \n",
       "1861  11.8        36.5             23.1018      0               0   \n",
       "\n",
       "      Category Left  \n",
       "0                 4  \n",
       "1                 1  \n",
       "2                 1  \n",
       "3                 1  \n",
       "4                 1  \n",
       "...             ...  \n",
       "1857              1  \n",
       "1858              1  \n",
       "1859              1  \n",
       "1860              1  \n",
       "1861              1  \n",
       "\n",
       "[1862 rows x 6 columns]"
      ]
     },
     "execution_count": 26,
     "metadata": {},
     "output_type": "execute_result"
    }
   ],
   "source": [
    "X"
   ]
  },
  {
   "cell_type": "code",
   "execution_count": 27,
   "metadata": {
    "datalore": {
     "hide_input_from_viewers": true,
     "hide_output_from_viewers": true,
     "node_id": "n5iGvYU6NLOgMVpmSW4ThO",
     "type": "CODE"
    }
   },
   "outputs": [
    {
     "data": {
      "text/plain": [
       "0       4\n",
       "1       1\n",
       "2       1\n",
       "3       1\n",
       "4       1\n",
       "       ..\n",
       "1857    1\n",
       "1858    1\n",
       "1859    1\n",
       "1860    1\n",
       "1861    1\n",
       "Name: Category Right, Length: 1862, dtype: int64"
      ]
     },
     "execution_count": 27,
     "metadata": {},
     "output_type": "execute_result"
    }
   ],
   "source": [
    "Y"
   ]
  },
  {
   "cell_type": "code",
   "execution_count": 28,
   "metadata": {
    "datalore": {
     "hide_input_from_viewers": true,
     "hide_output_from_viewers": true,
     "node_id": "PRRyACKgMXNd8ODQBNOBJI",
     "type": "CODE"
    }
   },
   "outputs": [],
   "source": [
    "from sklearn.model_selection import train_test_split ## importing train test spiltting\n",
    "from sklearn.metrics import classification_report ## importing classification report\n",
    "from sklearn.metrics import precision_score ## importing precision score\n",
    "from sklearn.metrics import recall_score ## importing recall score\n",
    "from sklearn.metrics import f1_score ## importing f1 score\n",
    "from sklearn.metrics import accuracy_score ## importing accuracy score"
   ]
  },
  {
   "cell_type": "code",
   "execution_count": 29,
   "metadata": {
    "datalore": {
     "hide_input_from_viewers": true,
     "hide_output_from_viewers": true,
     "node_id": "N1FBv6ZTRlde25cq3qQP3v",
     "type": "CODE"
    }
   },
   "outputs": [],
   "source": [
    "X_train, X_test, Y_train, Y_test=train_test_split(X,Y,test_size=0.3, random_state=0) ## train test splitting"
   ]
  },
  {
   "cell_type": "markdown",
   "metadata": {
    "datalore": {
     "hide_input_from_viewers": true,
     "hide_output_from_viewers": true,
     "node_id": "A46FbqRbvnFhc8h59aT5Pk",
     "type": "MD"
    }
   },
   "source": [
    "***Decision Tree Accuracy****"
   ]
  },
  {
   "cell_type": "code",
   "execution_count": 30,
   "metadata": {
    "datalore": {
     "hide_input_from_viewers": true,
     "hide_output_from_viewers": true,
     "node_id": "jXhZZ6q4mvTWtKZGssnfsA",
     "type": "CODE"
    }
   },
   "outputs": [
    {
     "name": "stdout",
     "output_type": "stream",
     "text": [
      "Accuracy of decision tree classifier: 0.9785330948121646\n"
     ]
    }
   ],
   "source": [
    "from sklearn import tree # importing tree\n",
    "dcsn_clf=tree.DecisionTreeClassifier(random_state=0) # initializing decision tree classifier\n",
    "dcsn_clf.fit(X_train,Y_train) ## training the model\n",
    "Y_pred=dcsn_clf.predict(X_test) ## predicting the model\n",
    "dcsn_acc=accuracy_score(Y_test,Y_pred) ## determining accuracy\n",
    "print('Accuracy of decision tree classifier:',dcsn_acc)"
   ]
  },
  {
   "cell_type": "code",
   "execution_count": 31,
   "metadata": {
    "datalore": {
     "hide_input_from_viewers": true,
     "hide_output_from_viewers": true,
     "node_id": "mBZAo5zr4jSzFkmVQaJnVT",
     "type": "CODE"
    }
   },
   "outputs": [
    {
     "name": "stdout",
     "output_type": "stream",
     "text": [
      "Precision Score :  0.9599449259660527\n",
      "Recall Score :  0.9785330948121646\n",
      "f1 Score :  0.9785148132940138\n"
     ]
    }
   ],
   "source": [
    "print(\"Precision Score : \",precision_score(Y_test, Y_pred,\n",
    "                                           average='macro'))\n",
    "print(\"Recall Score : \",precision_score(Y_test, Y_pred,\n",
    "                                           average='micro'))\n",
    "print(\"f1 Score : \",f1_score(Y_test, Y_pred,\n",
    "                                           average='weighted')) ## calculating precision score, f1 score"
   ]
  },
  {
   "cell_type": "code",
   "execution_count": 32,
   "metadata": {
    "datalore": {
     "hide_input_from_viewers": true,
     "hide_output_from_viewers": true,
     "node_id": "DdLNMMOyiRRjaVCx5W1PxG",
     "type": "CODE"
    }
   },
   "outputs": [],
   "source": [
    "from sklearn.metrics import confusion_matrix ## importing confusion matrix"
   ]
  },
  {
   "cell_type": "code",
   "execution_count": 33,
   "metadata": {
    "datalore": {
     "hide_input_from_viewers": true,
     "hide_output_from_viewers": true,
     "node_id": "wuNDrad0QlERUBeEytmPsT",
     "type": "CODE"
    }
   },
   "outputs": [
    {
     "data": {
      "text/plain": [
       "array([[154,   5,   0,   0],\n",
       "       [  1, 306,   2,   2],\n",
       "       [  0,   0,  69,   0],\n",
       "       [  1,   1,   0,  18]])"
      ]
     },
     "execution_count": 33,
     "metadata": {},
     "output_type": "execute_result"
    }
   ],
   "source": [
    "confusion_matrix(Y_test, Y_pred) ## displaying confusion matrix"
   ]
  },
  {
   "cell_type": "markdown",
   "metadata": {
    "datalore": {
     "hide_input_from_viewers": true,
     "hide_output_from_viewers": true,
     "node_id": "dM2fmXhOJ8DRivr2gV3whs",
     "type": "MD"
    }
   },
   "source": [
    "***Decision Tree (Cross Validation)***"
   ]
  },
  {
   "cell_type": "code",
   "execution_count": 34,
   "metadata": {
    "datalore": {
     "hide_input_from_viewers": true,
     "hide_output_from_viewers": true,
     "node_id": "dVB8Z1RnD4ibcKgxjEoAh4",
     "type": "CODE"
    }
   },
   "outputs": [
    {
     "name": "stdout",
     "output_type": "stream",
     "text": [
      "Cross-validation scores: [0.97855228 0.97319035 0.96774194 0.9811828  0.96505376]\n",
      "Mean cross-validation score: 0.9731442243939\n"
     ]
    }
   ],
   "source": [
    "from sklearn.model_selection import cross_val_score\n",
    "from sklearn.model_selection import KFold\n",
    "from sklearn.tree import DecisionTreeClassifier\n",
    "import numpy as np\n",
    "\n",
    "# Load your dataset and split it into features (X) and labels (y)\n",
    "\n",
    "# Create a decision tree classifier\n",
    "model = DecisionTreeClassifier()\n",
    "\n",
    "# Set up k-fold cross-validation with 5 folds\n",
    "kfold = KFold(n_splits=5, shuffle=True, random_state=42)\n",
    "\n",
    "# Perform cross-validation on the model using the k-fold generator\n",
    "scores = cross_val_score(model, X, Y, cv=kfold)\n",
    "\n",
    "# Print the cross-validation scores and the mean score\n",
    "print('Cross-validation scores:', scores)\n",
    "print('Mean cross-validation score:', np.mean(scores))"
   ]
  },
  {
   "cell_type": "markdown",
   "metadata": {
    "datalore": {
     "hide_input_from_viewers": true,
     "hide_output_from_viewers": true,
     "node_id": "ld9tCyJ3cBbCYr5wlhgELJ",
     "type": "MD"
    }
   },
   "source": [
    "***Neural Network Accuracy***"
   ]
  },
  {
   "cell_type": "code",
   "execution_count": null,
   "metadata": {
    "datalore": {
     "hide_input_from_viewers": true,
     "hide_output_from_viewers": true,
     "node_id": "CjnCt12z8iNY8MnduhC3v8",
     "type": "CODE"
    },
    "scrolled": true
   },
   "outputs": [],
   "source": [
    "import tensorflow as tf ## importing tensorflow\n",
    "from tensorflow import keras"
   ]
  },
  {
   "cell_type": "code",
   "execution_count": 1,
   "metadata": {
    "datalore": {
     "hide_input_from_viewers": true,
     "hide_output_from_viewers": true,
     "node_id": "d5XZioKeVWHd1ui3LidkRH",
     "type": "CODE"
    }
   },
   "outputs": [
    {
     "ename": "NameError",
     "evalue": "name 'tf' is not defined",
     "output_type": "error",
     "traceback": [
      "\u001b[0;31m---------------------------------------------------------------------------\u001b[0m",
      "\u001b[0;31mNameError\u001b[0m                                 Traceback (most recent call last)",
      "\u001b[0;32m/var/folders/5j/xyczj08d68sg7wwyt4pwplt00000gn/T/ipykernel_76603/1951344979.py\u001b[0m in \u001b[0;36m<module>\u001b[0;34m\u001b[0m\n\u001b[0;32m----> 1\u001b[0;31m \u001b[0mANN\u001b[0m \u001b[0;34m=\u001b[0m \u001b[0mtf\u001b[0m\u001b[0;34m.\u001b[0m\u001b[0mkeras\u001b[0m\u001b[0;34m.\u001b[0m\u001b[0mmodels\u001b[0m\u001b[0;34m.\u001b[0m\u001b[0mSequential\u001b[0m\u001b[0;34m(\u001b[0m\u001b[0;34m)\u001b[0m\u001b[0;34m\u001b[0m\u001b[0;34m\u001b[0m\u001b[0m\n\u001b[0m\u001b[1;32m      2\u001b[0m \u001b[0;31m# Adding the input layer and first hidden layer\u001b[0m\u001b[0;34m\u001b[0m\u001b[0;34m\u001b[0m\u001b[0m\n\u001b[1;32m      3\u001b[0m \u001b[0mANN\u001b[0m\u001b[0;34m.\u001b[0m\u001b[0madd\u001b[0m\u001b[0;34m(\u001b[0m\u001b[0mtf\u001b[0m\u001b[0;34m.\u001b[0m\u001b[0mkeras\u001b[0m\u001b[0;34m.\u001b[0m\u001b[0mlayers\u001b[0m\u001b[0;34m.\u001b[0m\u001b[0mDense\u001b[0m\u001b[0;34m(\u001b[0m\u001b[0munits\u001b[0m\u001b[0;34m=\u001b[0m\u001b[0;36m12\u001b[0m\u001b[0;34m,\u001b[0m \u001b[0mactivation\u001b[0m\u001b[0;34m=\u001b[0m\u001b[0;34m'relu'\u001b[0m\u001b[0;34m,\u001b[0m \u001b[0minput_shape\u001b[0m\u001b[0;34m=\u001b[0m\u001b[0mX_train\u001b[0m\u001b[0;34m.\u001b[0m\u001b[0mshape\u001b[0m\u001b[0;34m)\u001b[0m\u001b[0;34m)\u001b[0m\u001b[0;34m\u001b[0m\u001b[0;34m\u001b[0m\u001b[0m\n\u001b[1;32m      4\u001b[0m \u001b[0;31m# Adding the second hidden layer\u001b[0m\u001b[0;34m\u001b[0m\u001b[0;34m\u001b[0m\u001b[0m\n\u001b[1;32m      5\u001b[0m \u001b[0mANN\u001b[0m\u001b[0;34m.\u001b[0m\u001b[0madd\u001b[0m\u001b[0;34m(\u001b[0m\u001b[0mtf\u001b[0m\u001b[0;34m.\u001b[0m\u001b[0mkeras\u001b[0m\u001b[0;34m.\u001b[0m\u001b[0mlayers\u001b[0m\u001b[0;34m.\u001b[0m\u001b[0mDense\u001b[0m\u001b[0;34m(\u001b[0m\u001b[0munits\u001b[0m\u001b[0;34m=\u001b[0m\u001b[0;36m8\u001b[0m\u001b[0;34m,\u001b[0m \u001b[0mactivation\u001b[0m\u001b[0;34m=\u001b[0m\u001b[0;34m'relu'\u001b[0m\u001b[0;34m)\u001b[0m\u001b[0;34m)\u001b[0m\u001b[0;34m\u001b[0m\u001b[0;34m\u001b[0m\u001b[0m\n",
      "\u001b[0;31mNameError\u001b[0m: name 'tf' is not defined"
     ]
    }
   ],
   "source": [
    "ANN = tf.keras.models.Sequential()\n",
    "# Adding the input layer and first hidden layer\n",
    "ANN.add(tf.keras.layers.Dense(units=12, activation='relu', input_shape=X_train.shape))\n",
    "# Adding the second hidden layer\n",
    "ANN.add(tf.keras.layers.Dense(units=8, activation='relu'))\n",
    "# Adding the third hidden layer\n",
    "ANN.add(tf.keras.layers.Dense(units=4, activation='relu'))\n",
    "# Adding the output layer\n",
    "ANN.add(tf.keras.layers.Dense(units=1, activation='sigmoid'))\n",
    "\n",
    "# Compiling the model\n",
    "ANN.compile(optimizer='adam', loss='binary_crossentropy', metrics=['accuracy'])"
   ]
  },
  {
   "cell_type": "code",
   "execution_count": null,
   "metadata": {
    "datalore": {
     "hide_input_from_viewers": true,
     "hide_output_from_viewers": true,
     "node_id": "2M1BB9UPUlXmUiJvwyhTPp",
     "type": "CODE"
    }
   },
   "outputs": [],
   "source": [
    "from sklearn.neural_network import MLPClassifier # importing MLPclassifier"
   ]
  },
  {
   "cell_type": "code",
   "execution_count": null,
   "metadata": {
    "datalore": {
     "hide_input_from_viewers": true,
     "hide_output_from_viewers": true,
     "node_id": "V6wWOg81PNaGUD85bXOmaV",
     "type": "CODE"
    },
    "scrolled": true
   },
   "outputs": [],
   "source": [
    "# Train an ANN classifier with 3 hidden layers\n",
    "clf = MLPClassifier(hidden_layer_sizes=(10, 10, 10))\n",
    "clf.fit(X_train, Y_train) ##fitting the model"
   ]
  },
  {
   "cell_type": "code",
   "execution_count": null,
   "metadata": {
    "datalore": {
     "hide_input_from_viewers": true,
     "hide_output_from_viewers": true,
     "node_id": "po51RWi1DEYfQ1n8LyGoa9",
     "type": "CODE"
    }
   },
   "outputs": [],
   "source": [
    "# Predicting on the test set\n",
    "y_pred = clf.predict(X_test)\n",
    "\n",
    "# Calculating accuracy\n",
    "neural_accuracy = accuracy_score(Y_test, y_pred)\n",
    "\n",
    "print(\"Accuracy of Neural network:\", neural_accuracy) ## accuracy of neural network"
   ]
  },
  {
   "cell_type": "code",
   "execution_count": null,
   "metadata": {
    "datalore": {
     "hide_input_from_viewers": true,
     "hide_output_from_viewers": true,
     "node_id": "w9I2TEWEZVcBlmHRhl1EMO",
     "type": "CODE"
    }
   },
   "outputs": [],
   "source": [
    "confusion_matrix(Y_test, Y_pred) ## displaying confusion matrix"
   ]
  },
  {
   "cell_type": "code",
   "execution_count": null,
   "metadata": {
    "datalore": {
     "hide_input_from_viewers": true,
     "hide_output_from_viewers": true,
     "node_id": "KEpnqOrAertIR6fet3BONk",
     "type": "CODE"
    }
   },
   "outputs": [],
   "source": [
    "print(\"Precision Score : \",precision_score(Y_test, Y_pred,\n",
    "                                           average='macro'))\n",
    "print(\"Recall Score : \",precision_score(Y_test, Y_pred,\n",
    "                                           average='micro'))\n",
    "print(\"f1 Score : \",f1_score(Y_test, Y_pred,\n",
    "                                           average='weighted')) ## calculating precision score, f1 score"
   ]
  },
  {
   "cell_type": "markdown",
   "metadata": {
    "datalore": {
     "hide_input_from_viewers": true,
     "hide_output_from_viewers": true,
     "node_id": "tO1E0vKXf4NmwLsJ6iEeAU",
     "type": "MD"
    }
   },
   "source": [
    "***Neural Network (Cross Validation)***"
   ]
  },
  {
   "cell_type": "code",
   "execution_count": 5,
   "metadata": {
    "datalore": {
     "hide_input_from_viewers": true,
     "hide_output_from_viewers": true,
     "node_id": "OkyNhCqnyHKIagJ8AHr2Sj",
     "type": "CODE"
    }
   },
   "outputs": [
    {
     "ename": "NameError",
     "evalue": "name 'X' is not defined",
     "output_type": "error",
     "traceback": [
      "\u001b[0;31m---------------------------------------------------------------------------\u001b[0m",
      "\u001b[0;31mNameError\u001b[0m                                 Traceback (most recent call last)",
      "\u001b[0;32m/var/folders/5j/xyczj08d68sg7wwyt4pwplt00000gn/T/ipykernel_69986/3714077076.py\u001b[0m in \u001b[0;36m<module>\u001b[0;34m\u001b[0m\n\u001b[1;32m     13\u001b[0m \u001b[0;34m\u001b[0m\u001b[0m\n\u001b[1;32m     14\u001b[0m \u001b[0;31m# Perform cross-validation on the model using the k-fold generator\u001b[0m\u001b[0;34m\u001b[0m\u001b[0;34m\u001b[0m\u001b[0m\n\u001b[0;32m---> 15\u001b[0;31m \u001b[0mscores\u001b[0m \u001b[0;34m=\u001b[0m \u001b[0mcross_val_score\u001b[0m\u001b[0;34m(\u001b[0m\u001b[0mmodel\u001b[0m\u001b[0;34m,\u001b[0m \u001b[0mX\u001b[0m\u001b[0;34m,\u001b[0m \u001b[0mY\u001b[0m\u001b[0;34m,\u001b[0m \u001b[0mcv\u001b[0m\u001b[0;34m=\u001b[0m\u001b[0mkfold\u001b[0m\u001b[0;34m)\u001b[0m\u001b[0;34m\u001b[0m\u001b[0;34m\u001b[0m\u001b[0m\n\u001b[0m\u001b[1;32m     16\u001b[0m \u001b[0;34m\u001b[0m\u001b[0m\n\u001b[1;32m     17\u001b[0m \u001b[0;31m# Print the cross-validation scores and the mean score\u001b[0m\u001b[0;34m\u001b[0m\u001b[0;34m\u001b[0m\u001b[0m\n",
      "\u001b[0;31mNameError\u001b[0m: name 'X' is not defined"
     ]
    }
   ],
   "source": [
    "from sklearn.model_selection import cross_val_score\n",
    "from sklearn.neural_network import MLPClassifier\n",
    "from sklearn.model_selection import KFold\n",
    "import numpy as np\n",
    "\n",
    "# Load your dataset and split it into features (X) and labels (y)\n",
    "\n",
    "# Create an MLP classifier with 3 hidden layers of size 10\n",
    "model = MLPClassifier(hidden_layer_sizes=(10, 10, 10))\n",
    "\n",
    "# Set up k-fold cross-validation with 5 folds\n",
    "kfold = KFold(n_splits=5, shuffle=True, random_state=42)\n",
    "\n",
    "# Perform cross-validation on the model using the k-fold generator\n",
    "scores = cross_val_score(model, X, Y, cv=kfold)\n",
    "\n",
    "# Print the cross-validation scores and the mean score\n",
    "print('Cross-validation scores:', scores)\n",
    "print('Mean cross-validation score:', np.mean(scores))"
   ]
  },
  {
   "cell_type": "code",
   "execution_count": 4,
   "metadata": {
    "datalore": {
     "hide_input_from_viewers": true,
     "hide_output_from_viewers": true,
     "node_id": "jkgx2sgcaXEspKJSUu8cNw",
     "type": "CODE"
    }
   },
   "outputs": [
    {
     "ename": "NameError",
     "evalue": "name 'pd' is not defined",
     "output_type": "error",
     "traceback": [
      "\u001b[0;31m---------------------------------------------------------------------------\u001b[0m",
      "\u001b[0;31mNameError\u001b[0m                                 Traceback (most recent call last)",
      "\u001b[0;32m/var/folders/5j/xyczj08d68sg7wwyt4pwplt00000gn/T/ipykernel_69986/265096645.py\u001b[0m in \u001b[0;36m<module>\u001b[0;34m\u001b[0m\n\u001b[0;32m----> 1\u001b[0;31m comparison_acc = pd.DataFrame({'Model': ['Decision Tree Classifier',     \n\u001b[0m\u001b[1;32m      2\u001b[0m                                    \u001b[0;34m'Neural Network'\u001b[0m\u001b[0;34m,\u001b[0m\u001b[0;34m\u001b[0m\u001b[0;34m\u001b[0m\u001b[0m\n\u001b[1;32m      3\u001b[0m                                      ], # setting all of the models\n\u001b[1;32m      4\u001b[0m                         'Accuracy': [dcsn_acc*100,\n\u001b[1;32m      5\u001b[0m                                      \u001b[0mneural_accuracy\u001b[0m\u001b[0;34m*\u001b[0m\u001b[0;36m100\u001b[0m\u001b[0;34m,\u001b[0m\u001b[0;34m\u001b[0m\u001b[0;34m\u001b[0m\u001b[0m\n",
      "\u001b[0;31mNameError\u001b[0m: name 'pd' is not defined"
     ]
    }
   ],
   "source": [
    "comparison_acc = pd.DataFrame({'Model': ['Decision Tree Classifier',     \n",
    "                                   'Neural Network',\n",
    "                                     ], # setting all of the models\n",
    "                        'Accuracy': [dcsn_acc*100,\n",
    "                                     neural_accuracy*100,\n",
    "                                     ]})\n",
    "comparison_acc.sort_values(by='Accuracy', ascending=False) #comparison among the accuracy rate"
   ]
  },
  {
   "cell_type": "code",
   "execution_count": null,
   "metadata": {},
   "outputs": [],
   "source": []
  },
  {
   "cell_type": "code",
   "execution_count": null,
   "metadata": {},
   "outputs": [],
   "source": []
  },
  {
   "cell_type": "code",
   "execution_count": null,
   "metadata": {},
   "outputs": [],
   "source": []
  },
  {
   "cell_type": "code",
   "execution_count": null,
   "metadata": {},
   "outputs": [],
   "source": []
  }
 ],
 "metadata": {
  "datalore": {
   "base_environment": "default",
   "computation_mode": "JUPYTER",
   "package_manager": "pip",
   "packages": [],
   "report_row_ids": [],
   "version": 2
  },
  "kernelspec": {
   "display_name": "Python 3 (ipykernel)",
   "language": "python",
   "name": "python3"
  },
  "language_info": {
   "codemirror_mode": {
    "name": "ipython",
    "version": 3
   },
   "file_extension": ".py",
   "mimetype": "text/x-python",
   "name": "python",
   "nbconvert_exporter": "python",
   "pygments_lexer": "ipython3",
   "version": "3.9.13"
  }
 },
 "nbformat": 4,
 "nbformat_minor": 4
}
